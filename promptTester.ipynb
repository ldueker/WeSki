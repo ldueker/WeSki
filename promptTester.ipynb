{
 "cells": [
  {
   "cell_type": "code",
   "execution_count": 24,
   "metadata": {},
   "outputs": [],
   "source": [
    "import pandas as pd\n",
    "from langchain_openai import ChatOpenAI\n",
    "from langchain_core.prompts import ChatPromptTemplate\n",
    "from langchain_core.output_parsers import StrOutputParser\n",
    "output_parser = StrOutputParser()\n"
   ]
  },
  {
   "cell_type": "markdown",
   "metadata": {},
   "source": [
    "Run this command to set API Key:\n",
    "%env OPENAI_API_KEY=\"your_api_key_here\""
   ]
  },
  {
   "cell_type": "code",
   "execution_count": 28,
   "metadata": {},
   "outputs": [],
   "source": [
    "#%env OPENAI_API_KEY=your_api_key"
   ]
  },
  {
   "cell_type": "code",
   "execution_count": 17,
   "metadata": {},
   "outputs": [],
   "source": [
    "llm = ChatOpenAI()"
   ]
  },
  {
   "cell_type": "code",
   "execution_count": 18,
   "metadata": {},
   "outputs": [],
   "source": [
    "prompt = ChatPromptTemplate.from_messages([\n",
    "(\"system\", \n",
    "    \"\"\"\n",
    "    You recommend ski resorts based on skiing_ability, budget, number of guests, ski preferences, town Importance, and average snowfall. \n",
    "    The user will provide this info as a list, in this structure: [skiing_ability, budget, number of guests, ski preferences, town Importance].\n",
    "    You can only select from resorts in the United States, and the resort must exist.\n",
    "    Output the result as a ranking from 1 to 5.\n",
    "    \"\"\"),\n",
    "    (\"user\", \"{input}\")\n",
    "])"
   ]
  },
  {
   "cell_type": "code",
   "execution_count": 19,
   "metadata": {},
   "outputs": [],
   "source": [
    "chain = prompt | llm | output_parser"
   ]
  },
  {
   "cell_type": "code",
   "execution_count": 20,
   "metadata": {},
   "outputs": [],
   "source": [
    "skiing_ability = \"Intermediate\"\n",
    "budget = (1000, 5000)\n",
    "num_guests = 2\n",
    "ski_preferences= \"Groomers\"\n",
    "town_importance = \"Somewhat Important\"\n",
    "\n",
    "fullInput = [skiing_ability,budget, num_guests, ski_preferences, town_importance]"
   ]
  },
  {
   "cell_type": "code",
   "execution_count": 21,
   "metadata": {},
   "outputs": [],
   "source": [
    "value = chain.invoke({\"input\":fullInput})"
   ]
  },
  {
   "cell_type": "code",
   "execution_count": 22,
   "metadata": {},
   "outputs": [
    {
     "name": "stdout",
     "output_type": "stream",
     "text": [
      "Based on your preferences, here is a ranking of ski resorts in the United States:\n",
      "\n",
      "1. Breckenridge, Colorado: Breckenridge offers a wide range of groomed runs suitable for intermediate skiers. It has a variety of accommodation options within your budget range and is a popular destination for families and groups. The town of Breckenridge has a vibrant atmosphere and offers a good selection of restaurants and shops.\n",
      "\n",
      "2. Park City, Utah: Park City is known for its well-groomed slopes and has a variety of terrain suitable for intermediate skiers. It offers a range of accommodation options within your budget and has a charming town with plenty of dining and shopping options.\n",
      "\n",
      "3. Keystone, Colorado: Keystone is another great option for intermediate skiers, with a good selection of groomed runs. It offers affordable accommodation options within your budget and is known for its family-friendly atmosphere. The town of Keystone has a relaxed vibe and offers a range of dining and entertainment options.\n",
      "\n",
      "4. Snowmass, Colorado: Snowmass is a great choice for intermediate skiers, with a large number of groomed runs to choose from. It offers a variety of accommodation options within your budget range and has a lively town with a good selection of restaurants and shops.\n",
      "\n",
      "5. Heavenly, California: Heavenly offers a mix of groomed runs and challenging terrain, making it a good option for intermediate skiers looking to push themselves. It has a range of accommodation options within your budget and offers stunning views of Lake Tahoe. The town of South Lake Tahoe offers a variety of dining and entertainment options.\n",
      "\n",
      "Please note that snowfall can vary from year to year, so it is always a good idea to check the current conditions before making a final decision.\n"
     ]
    }
   ],
   "source": [
    "print(value)"
   ]
  }
 ],
 "metadata": {
  "kernelspec": {
   "display_name": "Python 3",
   "language": "python",
   "name": "python3"
  },
  "language_info": {
   "codemirror_mode": {
    "name": "ipython",
    "version": 3
   },
   "file_extension": ".py",
   "mimetype": "text/x-python",
   "name": "python",
   "nbconvert_exporter": "python",
   "pygments_lexer": "ipython3",
   "version": "3.8.2"
  }
 },
 "nbformat": 4,
 "nbformat_minor": 2
}
